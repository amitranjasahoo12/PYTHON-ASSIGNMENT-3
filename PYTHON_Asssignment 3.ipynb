{
 "cells": [
  {
   "cell_type": "markdown",
   "id": "2eddc084",
   "metadata": {},
   "source": [
    "# Assignment 3"
   ]
  },
  {
   "cell_type": "markdown",
   "id": "9d7cb117",
   "metadata": {},
   "source": [
    "# 1. write a python program to implement your own myreduce() function which works exactly like python's built-in function()."
   ]
  },
  {
   "cell_type": "code",
   "execution_count": 32,
   "id": "fc269f00",
   "metadata": {},
   "outputs": [],
   "source": [
    "def myreduce(func, values):\n",
    "    result = values[0]\n",
    "    for i in values[1:]:\n",
    "        result = func(result, i)\n",
    "    return result"
   ]
  },
  {
   "cell_type": "code",
   "execution_count": 33,
   "id": "478690c9",
   "metadata": {},
   "outputs": [],
   "source": [
    "def func (a, b):\n",
    "    return a * b"
   ]
  },
  {
   "cell_type": "code",
   "execution_count": 38,
   "id": "bd47bc4d",
   "metadata": {},
   "outputs": [
    {
     "name": "stdout",
     "output_type": "stream",
     "text": [
      "My reduce output is : 14400\n"
     ]
    }
   ],
   "source": [
    "l= [2,5,6,1,8,3,10]\n",
    "print (f\"My reduce output is : {myreduce( func, l)}\")"
   ]
  },
  {
   "cell_type": "markdown",
   "id": "1ba442c5",
   "metadata": {},
   "source": [
    "# 2. Write a Python program to implement your own myfilter() function which works exactly like python's built-in function filter()."
   ]
  },
  {
   "cell_type": "code",
   "execution_count": 19,
   "id": "4d7abcff",
   "metadata": {},
   "outputs": [],
   "source": [
    "def myfilter(fun, values):\n",
    "    result = list()\n",
    "    for i in values:\n",
    "        if fun(i):\n",
    "            result.append(i)\n",
    "    return result"
   ]
  },
  {
   "cell_type": "code",
   "execution_count": 20,
   "id": "971b54ed",
   "metadata": {},
   "outputs": [],
   "source": [
    "def fun(x):\n",
    "    if x % 5 == 0:\n",
    "        return True\n",
    "    else:\n",
    "        return False"
   ]
  },
  {
   "cell_type": "code",
   "execution_count": 21,
   "id": "a44504a9",
   "metadata": {},
   "outputs": [
    {
     "name": "stdout",
     "output_type": "stream",
     "text": [
      "My Filter Output is :[15, 60]\n"
     ]
    }
   ],
   "source": [
    "lst = [12, 15, 60, 34, 53]\n",
    "\n",
    "print(f\"My Filter Output is :{myfilter(fun,lst)}\")"
   ]
  },
  {
   "cell_type": "markdown",
   "id": "5c9832e3",
   "metadata": {},
   "source": [
    "# 3. Implement List Comprehensions to produce the following lists."
   ]
  },
  {
   "cell_type": "markdown",
   "id": "1369154d",
   "metadata": {},
   "source": [
    "# 1.['x', 'xx', 'xxx', 'xxxx', 'y', 'yy', 'yyy', 'yyyy', 'z', 'zz', 'zzz', 'zzzz']"
   ]
  },
  {
   "cell_type": "code",
   "execution_count": 37,
   "id": "a813bc9d",
   "metadata": {},
   "outputs": [],
   "source": [
    "l1=['x', 'y', 'z']\n",
    "lst1 = [i*j for j in l1 for i in range (1,5)]"
   ]
  },
  {
   "cell_type": "code",
   "execution_count": 38,
   "id": "89bf9ecf",
   "metadata": {},
   "outputs": [
    {
     "data": {
      "text/plain": [
       "['x', 'xx', 'xxx', 'xxxx', 'y', 'yy', 'yyy', 'yyyy', 'z', 'zz', 'zzz', 'zzzz']"
      ]
     },
     "execution_count": 38,
     "metadata": {},
     "output_type": "execute_result"
    }
   ],
   "source": [
    "lst1"
   ]
  },
  {
   "cell_type": "markdown",
   "id": "e7b21028",
   "metadata": {},
   "source": [
    "# 2. ['x', 'y', 'z', 'xx', 'yy', 'zz', 'xxx', 'yyy', 'zzz', 'xxxx', 'yyyy', 'zzzz']"
   ]
  },
  {
   "cell_type": "code",
   "execution_count": 14,
   "id": "3cd7beae",
   "metadata": {},
   "outputs": [],
   "source": [
    "l2 = ['x', 'y', 'z']\n",
    "lst2= [i*j for j in range(1,5) for i in l2]"
   ]
  },
  {
   "cell_type": "code",
   "execution_count": 15,
   "id": "d3634fb2",
   "metadata": {},
   "outputs": [
    {
     "data": {
      "text/plain": [
       "['x', 'y', 'z', 'xx', 'yy', 'zz', 'xxx', 'yyy', 'zzz', 'xxxx', 'yyyy', 'zzzz']"
      ]
     },
     "execution_count": 15,
     "metadata": {},
     "output_type": "execute_result"
    }
   ],
   "source": [
    "lst2"
   ]
  },
  {
   "cell_type": "markdown",
   "id": "a703e755",
   "metadata": {},
   "source": [
    "# 3. [[2], [3], [4], [3], [4], [5], [4], [5], [6]] "
   ]
  },
  {
   "cell_type": "code",
   "execution_count": 39,
   "id": "8169079f",
   "metadata": {},
   "outputs": [],
   "source": [
    "lst3=[[x+y] for y in range(3) for x in range(2,5)]"
   ]
  },
  {
   "cell_type": "code",
   "execution_count": 40,
   "id": "c1d90c34",
   "metadata": {},
   "outputs": [
    {
     "data": {
      "text/plain": [
       "[[2], [3], [4], [3], [4], [5], [4], [5], [6]]"
      ]
     },
     "execution_count": 40,
     "metadata": {},
     "output_type": "execute_result"
    }
   ],
   "source": [
    "lst3"
   ]
  },
  {
   "cell_type": "markdown",
   "id": "b8b21ca3",
   "metadata": {},
   "source": [
    "# 4.[[2, 3, 4, 5], [3, 4, 5, 6],[4, 5, 6, 7], [5, 6, 7, 8]]"
   ]
  },
  {
   "cell_type": "code",
   "execution_count": 44,
   "id": "ddd4f86f",
   "metadata": {},
   "outputs": [],
   "source": [
    "lst4= [[a+b for b in range(2,6)] for a in range(4)]"
   ]
  },
  {
   "cell_type": "code",
   "execution_count": 45,
   "id": "f732b825",
   "metadata": {},
   "outputs": [
    {
     "data": {
      "text/plain": [
       "[[2, 3, 4, 5], [3, 4, 5, 6], [4, 5, 6, 7], [5, 6, 7, 8]]"
      ]
     },
     "execution_count": 45,
     "metadata": {},
     "output_type": "execute_result"
    }
   ],
   "source": [
    "lst4"
   ]
  },
  {
   "cell_type": "markdown",
   "id": "d56bdac2",
   "metadata": {},
   "source": [
    "# 5. [(1, 1), (2, 1), (3, 1), (1, 2), (2, 2), (3, 2), (1, 3), (2, 3), (3, 3)]"
   ]
  },
  {
   "cell_type": "code",
   "execution_count": 49,
   "id": "52d87ebf",
   "metadata": {},
   "outputs": [],
   "source": [
    "lst5= [(p,q) for q in range(1,4) for p in range(1,4)]"
   ]
  },
  {
   "cell_type": "code",
   "execution_count": 50,
   "id": "c435fc72",
   "metadata": {},
   "outputs": [
    {
     "data": {
      "text/plain": [
       "[(1, 1), (2, 1), (3, 1), (1, 2), (2, 2), (3, 2), (1, 3), (2, 3), (3, 3)]"
      ]
     },
     "execution_count": 50,
     "metadata": {},
     "output_type": "execute_result"
    }
   ],
   "source": [
    "lst5"
   ]
  },
  {
   "cell_type": "code",
   "execution_count": 51,
   "id": "7f4325f4",
   "metadata": {},
   "outputs": [],
   "source": [
    "lst5= [(p,q)  for p in range(1,4) for q in range(1,4)]"
   ]
  },
  {
   "cell_type": "code",
   "execution_count": 52,
   "id": "3695f204",
   "metadata": {},
   "outputs": [
    {
     "data": {
      "text/plain": [
       "[(1, 1), (1, 2), (1, 3), (2, 1), (2, 2), (2, 3), (3, 1), (3, 2), (3, 3)]"
      ]
     },
     "execution_count": 52,
     "metadata": {},
     "output_type": "execute_result"
    }
   ],
   "source": [
    "lst5"
   ]
  },
  {
   "cell_type": "code",
   "execution_count": null,
   "id": "8479983c",
   "metadata": {},
   "outputs": [],
   "source": []
  }
 ],
 "metadata": {
  "kernelspec": {
   "display_name": "Python 3",
   "language": "python",
   "name": "python3"
  },
  "language_info": {
   "codemirror_mode": {
    "name": "ipython",
    "version": 3
   },
   "file_extension": ".py",
   "mimetype": "text/x-python",
   "name": "python",
   "nbconvert_exporter": "python",
   "pygments_lexer": "ipython3",
   "version": "3.8.8"
  }
 },
 "nbformat": 4,
 "nbformat_minor": 5
}
